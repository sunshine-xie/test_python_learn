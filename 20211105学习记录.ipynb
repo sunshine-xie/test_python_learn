{
 "cells": [
  {
   "cell_type": "markdown",
   "metadata": {
    "collapsed": false
   },
   "source": [
    "![](https://ai-studio-static-online.cdn.bcebos.com/f2d7d11af6f1491882b442524a52fd15f91ad67bff0d4af5b2f433ee760e2510)\n",
    "\n",
    "讲师： Molly & 朱子英"
   ]
  },
  {
   "cell_type": "markdown",
   "metadata": {
    "collapsed": false
   },
   "source": [
    "**TIOBE 指数：最受关注的语言排行榜**\n",
    "![](https://ai-studio-static-online.cdn.bcebos.com/ff6426df32ec47bd9ea117c8d4a72777b08c16dd17b249dcae5382dc9617e5b6)\n"
   ]
  },
  {
   "cell_type": "markdown",
   "metadata": {
    "collapsed": false
   },
   "source": [
    "**python的应用领域**\n",
    "![](https://ai-studio-static-online.cdn.bcebos.com/bd297a50116e4e4e9fcd5e20426f1792027809870cf84ef4aa2c143490f70828)\n"
   ]
  },
  {
   "cell_type": "markdown",
   "metadata": {
    "collapsed": false
   },
   "source": [
    "**python的特点**\n",
    "* 简洁性 实现同样的功能，python代码的行数往往是java的1/5。\n",
    "* 易读性 代码像纯英语一样易于理解。\n",
    "* 可扩展性 开源，任何人都可以做出自己的贡献。"
   ]
  },
  {
   "cell_type": "markdown",
   "metadata": {
    "collapsed": false
   },
   "source": [
    "# 课程框架\n",
    "* python入门及环境配置\n",
    "* 语法基础\n",
    "* 函数\n",
    "* 高级特性\n",
    "* 面向对象\n",
    "* 文件操作与常用模块的使用"
   ]
  },
  {
   "cell_type": "markdown",
   "metadata": {
    "collapsed": false
   },
   "source": [
    "# 学习方法\n",
    "* python是一个工具，只有不断重复、练习，才能彻底掌握。课下多练习，完成作业\n",
    "* 不要复制粘贴老师的代码！ 从对着讲义手打-理解后独立复现-学习如何找bug、改bug\n",
    "* 上课以理解为主，不要把时间花在优美的笔记上面。尤其是讲义上面已经有的东西。\n",
    "* 课上一时没跟上，不要纠结&及时反馈。课下及时弥补&录播。"
   ]
  },
  {
   "cell_type": "markdown",
   "metadata": {
    "collapsed": false
   },
   "source": [
    "# python的安装和环境配置\n",
    "方法一\n",
    "\n",
    "直接安装python本体（不推荐）\n",
    "下载地址： https://www.python.org/downloads/ 安装方法：http://c.biancheng.net/view/4161.html/\n",
    "\n",
    "方法二\n",
    "\n",
    "Anaconda（强烈推荐！）\n",
    "下载地址 https://mirrors.tuna.tsinghua.edu.cn/anaconda/archive/\n",
    "安装方法 https://blog.csdn.net/ITLearnHall/article/details/81708148/\n",
    "\n",
    "![](https://ai-studio-static-online.cdn.bcebos.com/e1e8f9cd7ff54bceb77ecec71d6b68c18b3943a1f878426a8c930926a0d58fe1)\n",
    "\n",
    "\n",
    "\n",
    "方法三：\n",
    "\n",
    "百度AI Studio（强烈推荐！）\n",
    "访问地址 https://aistudio.baidu.com/\n",
    "\n",
    "为了方便管理，后续作业在百度AI Studio上完成。为了和教学版本一致，本地环境最好下载python3.7版本（anaconda：2019年7月版本，注意下载anaconda3）"
   ]
  },
  {
   "cell_type": "markdown",
   "metadata": {
    "collapsed": false
   },
   "source": [
    "# 执行python代码\n",
    "* 直接使用解释器执行\n",
    "\n",
    "windows：用win+R调出运行窗口，输入CMD。\n",
    "\n",
    "mac: 直接打开terminal。 \n",
    "\n",
    "![](https://ai-studio-static-online.cdn.bcebos.com/c7777200192649dfb4255bffebe07336a50ef53631b442ada1b10a1f9872a67e)\n",
    "\n",
    "输入：python\n",
    "\n",
    "* .py文件\n",
    "\n",
    "* IDE(pycharm)\n",
    "下载地址：https://www.jetbrains.com/pycharm/download/#section=windows\n",
    "\n",
    "安装方法：https://www.pycharm.com.cn\n",
    "\n",
    "* jupyter notebook\n",
    "windows：用win+R调出运行窗口，输入CMD。\n",
    "\n",
    "mac: 直接打开terminal。\n",
    "\n",
    "输入：jupyter notebook\n",
    "\n",
    "* 百度AI studio\n",
    "认识AI studio操作界面"
   ]
  },
  {
   "cell_type": "markdown",
   "metadata": {
    "collapsed": false
   },
   "source": [
    "# 语法基础"
   ]
  },
  {
   "cell_type": "markdown",
   "metadata": {
    "collapsed": false
   },
   "source": [
    "## 第一个python程序\n",
    "AI studio的基本使用方法； 认识cell；编辑模式 or 命令模式；如何运行cell；记住快捷键"
   ]
  },
  {
   "cell_type": "code",
   "execution_count": 6,
   "metadata": {
    "collapsed": false
   },
   "outputs": [
    {
     "name": "stdout",
     "output_type": "stream",
     "text": [
      "Hello World!\n"
     ]
    }
   ],
   "source": [
    "print('Hello World!')"
   ]
  },
  {
   "cell_type": "code",
   "execution_count": 7,
   "metadata": {
    "collapsed": false
   },
   "outputs": [
    {
     "name": "stdout",
     "output_type": "stream",
     "text": [
      "your name = "
     ]
    },
    {
     "data": {
      "text/plain": [
       "'xiewenkai'"
      ]
     },
     "execution_count": 7,
     "metadata": {},
     "output_type": "execute_result"
    }
   ],
   "source": [
    "input('your name = ')"
   ]
  },
  {
   "cell_type": "markdown",
   "metadata": {
    "collapsed": false
   },
   "source": [
    "-------------------------------------手打分割线-------------------------------------------------------------"
   ]
  },
  {
   "cell_type": "code",
   "execution_count": 8,
   "metadata": {
    "collapsed": false
   },
   "outputs": [
    {
     "name": "stdout",
     "output_type": "stream",
     "text": [
      "how much is this fridge?Heigh, Please try again!Low, Please try again!\n",
      "Congratulation! Correct!\n",
      "\n"
     ]
    }
   ],
   "source": [
    "#python代码长这个样之\r\n",
    "\"\"\"\r\n",
    "多行注释\r\n",
    "\"\"\"\r\n",
    "\r\n",
    "#缩进\r\n",
    "#使用四个空格，不要用TAB\r\n",
    "my_number = 3200 #real price\r\n",
    "guess_number = input('how much is this fridge?')\r\n",
    "guess_number = int(guess_number)\r\n",
    "while guess_number != my_number:\r\n",
    "    if guess_number < my_number:\r\n",
    "        guess_number = input('Low, Please try again!')\r\n",
    "        guess_number = int(guess_number)\r\n",
    "    else:\r\n",
    "        guess_number = input('Heigh, Please try again!')\r\n",
    "        guess_number = int(guess_number)\r\n",
    "print('\\nCongratulation! Correct!\\n')\r\n"
   ]
  },
  {
   "cell_type": "code",
   "execution_count": null,
   "metadata": {
    "collapsed": false
   },
   "outputs": [],
   "source": [
    "#数据类型\r\n",
    "#int\r\n",
    "#float    \r\n",
    "    #2.1 \r\n",
    "    #1.58e10\r\n",
    "    #3e-4"
   ]
  },
  {
   "cell_type": "code",
   "execution_count": null,
   "metadata": {
    "collapsed": false
   },
   "outputs": [],
   "source": [
    "#运算\r\n",
    "+ \r\n",
    "- \r\n",
    "* \r\n",
    "/ \r\n",
    "// \r\n",
    "1%2\r\n",
    "**\r\n",
    "\r\n",
    "True\r\n",
    "False\r\n",
    "\r\n",
    "None 空值"
   ]
  },
  {
   "cell_type": "code",
   "execution_count": 10,
   "metadata": {
    "collapsed": false
   },
   "outputs": [
    {
     "data": {
      "text/plain": [
       "0.3"
      ]
     },
     "execution_count": 10,
     "metadata": {},
     "output_type": "execute_result"
    }
   ],
   "source": [
    "0.1+0.2\r\n",
    "round(0.1+0.2, 2)"
   ]
  },
  {
   "cell_type": "code",
   "execution_count": 11,
   "metadata": {
    "collapsed": false
   },
   "outputs": [
    {
     "data": {
      "text/plain": [
       "12"
      ]
     },
     "execution_count": 11,
     "metadata": {},
     "output_type": "execute_result"
    }
   ],
   "source": [
    "len('hello world!')"
   ]
  },
  {
   "cell_type": "code",
   "execution_count": 7,
   "metadata": {
    "collapsed": false
   },
   "outputs": [
    {
     "data": {
      "text/plain": [
       "['a', 'b', 'c', 4, 5, 6]"
      ]
     },
     "execution_count": 7,
     "metadata": {},
     "output_type": "execute_result"
    }
   ],
   "source": []
  },
  {
   "cell_type": "code",
   "execution_count": 12,
   "metadata": {
    "collapsed": false
   },
   "outputs": [],
   "source": [
    "number = 1\r\n",
    "number = 5.5\r\n",
    "number = 'char'\r\n",
    "#动态语言 不是在原来房子里赶走先前住进去的，放进新的。而是新建房子，换门牌号\r\n",
    "\r\n",
    "number = number + 2\r\n",
    "number += 2"
   ]
  },
  {
   "cell_type": "code",
   "execution_count": null,
   "metadata": {
    "collapsed": false
   },
   "outputs": [],
   "source": [
    "#命名规则\r\n",
    "_my_name 合法"
   ]
  },
  {
   "cell_type": "code",
   "execution_count": null,
   "metadata": {
    "collapsed": false
   },
   "outputs": [],
   "source": [
    "#列表 list\r\n",
    "list1 = ['a', 'b', 'c', 4, 5, 6]\r\n",
    "len(list1)\r\n",
    "list1.append(7)\r\n",
    "list1[4]\r\n",
    "list1.pop()\r\n"
   ]
  },
  {
   "cell_type": "code",
   "execution_count": null,
   "metadata": {
    "collapsed": false
   },
   "outputs": [],
   "source": [
    "list1"
   ]
  },
  {
   "cell_type": "code",
   "execution_count": 9,
   "metadata": {
    "collapsed": false
   },
   "outputs": [
    {
     "name": "stdout",
     "output_type": "stream",
     "text": [
      "94447445013408\n",
      "94447445013440\n"
     ]
    }
   ],
   "source": [
    "a = 5\r\n",
    "print(id(a))\r\n",
    "a = 6\r\n",
    "print(id(a))"
   ]
  },
  {
   "cell_type": "code",
   "execution_count": 13,
   "metadata": {
    "collapsed": false
   },
   "outputs": [
    {
     "name": "stdout",
     "output_type": "stream",
     "text": [
      "140303279821440\n",
      "140303279821440\n",
      "[6]\n"
     ]
    }
   ],
   "source": [
    "a = [5]\r\n",
    "print(id(a))\r\n",
    "\r\n",
    "a.pop()\r\n",
    "\r\n",
    "a.append(6)\r\n",
    "print(id(a))\r\n",
    "\r\n",
    "print(a)"
   ]
  },
  {
   "cell_type": "code",
   "execution_count": 2,
   "metadata": {
    "collapsed": false
   },
   "outputs": [
    {
     "data": {
      "text/plain": [
       "{'apple': '苹果', '小张': 100, 10: '非常好', 2: '一般'}"
      ]
     },
     "execution_count": 2,
     "metadata": {},
     "output_type": "execute_result"
    }
   ],
   "source": [
    "word = {'apple':'苹果','小张':100, 10:'好'}\r\n",
    "# word = {'apple':'苹果','小张':100}\r\n",
    "# word = {'apple':'苹果', 'banana':'香蕉'}\r\n",
    "word[10]\r\n",
    "word[2] = '一般'\r\n",
    "word[10] = '非常好'\r\n",
    "word"
   ]
  },
  {
   "cell_type": "code",
   "execution_count": 7,
   "metadata": {
    "collapsed": false
   },
   "outputs": [
    {
     "data": {
      "text/plain": [
       "[1, 2, 3, 4, 5, 6]"
      ]
     },
     "execution_count": 7,
     "metadata": {},
     "output_type": "execute_result"
    }
   ],
   "source": [
    "s = {1, 2, 3, 4, 5, 1}\r\n",
    "s\r\n",
    "list1 = list(s)\r\n",
    "list1\r\n",
    "list1.append(6)\r\n",
    "list1"
   ]
  },
  {
   "cell_type": "code",
   "execution_count": 16,
   "metadata": {
    "collapsed": false
   },
   "outputs": [
    {
     "name": "stdout",
     "output_type": "stream",
     "text": [
      "score及格\n"
     ]
    }
   ],
   "source": [
    "\r\n",
    "score = float(input('score'))\r\n",
    "if score < 60:\r\n",
    "    print('不及格')\r\n",
    "else:\r\n",
    "    print('及格')"
   ]
  },
  {
   "cell_type": "code",
   "execution_count": 20,
   "metadata": {
    "collapsed": false
   },
   "outputs": [
    {
     "name": "stdout",
     "output_type": "stream",
     "text": [
      "red green yellow\n",
      "stop\n"
     ]
    }
   ],
   "source": [
    "light = input('red green yellow')\r\n",
    "if light == 'red':\r\n",
    "    print('\\nstop')\r\n",
    "elif light == 'green':\r\n",
    "    print('\\ngo')\r\n",
    "else :\r\n",
    "    print('\\nslow')"
   ]
  },
  {
   "cell_type": "code",
   "execution_count": 26,
   "metadata": {
    "collapsed": false
   },
   "outputs": [
    {
     "name": "stdout",
     "output_type": "stream",
     "text": [
      "mathenglishhistory\n",
      "\n",
      "False\n"
     ]
    }
   ],
   "source": [
    "#判断三门课成绩是否都超过88\r\n",
    "score_math = float(input('math'))\r\n",
    "score_english = float(input('english'))\r\n",
    "score_history = float(input('history'))\r\n",
    "print('\\n')\r\n",
    "print(score_math >= 88 and score_english >= 88 and score_history >= 88)"
   ]
  },
  {
   "cell_type": "code",
   "execution_count": 36,
   "metadata": {
    "collapsed": false
   },
   "outputs": [
    {
     "name": "stdout",
     "output_type": "stream",
     "text": [
      "0\n",
      "1\n",
      "2\n",
      "3\n",
      "4\n",
      "5\n",
      "6\n",
      "7\n",
      "8\n",
      "9\n",
      "10\n"
     ]
    }
   ],
   "source": [
    "number = 0\r\n",
    "#while number < 10:\r\n",
    "while number <= 10:\r\n",
    "    # print(number,'\\n')\r\n",
    "    print(number)\r\n",
    "    #print('\\n')\r\n",
    "    number += 1"
   ]
  },
  {
   "cell_type": "code",
   "execution_count": 34,
   "metadata": {
    "collapsed": false
   },
   "outputs": [
    {
     "data": {
      "text/plain": [
       "[0, 1, 2, 3, 4, 5, 6, 7, 8, 9, 10, 11, 12, 13, 14, 15, 16, 17, 18, 19]"
      ]
     },
     "execution_count": 34,
     "metadata": {},
     "output_type": "execute_result"
    }
   ],
   "source": [
    "list(range(20))"
   ]
  },
  {
   "cell_type": "code",
   "execution_count": 38,
   "metadata": {
    "collapsed": false
   },
   "outputs": [
    {
     "name": "stdout",
     "output_type": "stream",
     "text": [
      "1\n",
      "2\n",
      "3\n",
      "4\n",
      "5\n",
      "6\n",
      "7\n",
      "8\n",
      "9\n"
     ]
    }
   ],
   "source": [
    "for i in range(9):\r\n",
    "    print(i+1)"
   ]
  },
  {
   "cell_type": "code",
   "execution_count": 39,
   "metadata": {
    "collapsed": false
   },
   "outputs": [
    {
     "name": "stdout",
     "output_type": "stream",
     "text": [
      "a\n",
      "b\n",
      "c\n"
     ]
    }
   ],
   "source": [
    "fruits = ['a', 'b', 'c']\r\n",
    "for fruit in fruits:\r\n",
    "    print(fruit)"
   ]
  },
  {
   "cell_type": "code",
   "execution_count": 40,
   "metadata": {
    "collapsed": false
   },
   "outputs": [
    {
     "name": "stdout",
     "output_type": "stream",
     "text": [
      "P\n",
      "y\n",
      "t\n",
      "h\n",
      "o\n",
      "n\n"
     ]
    }
   ],
   "source": [
    "for letter in 'Python':\r\n",
    "    print(letter)"
   ]
  },
  {
   "cell_type": "code",
   "execution_count": 1,
   "metadata": {
    "collapsed": false
   },
   "outputs": [
    {
     "name": "stdout",
     "output_type": "stream",
     "text": [
      "how much id this fridge?hight, Please try again\n",
      " Congratulation! you are right!\n"
     ]
    }
   ],
   "source": [
    "my_number = 3200\r\n",
    "guess_number = int(input('how much id this fridge?'))\r\n",
    "while True:\r\n",
    "    if guess_number < my_number:\r\n",
    "        guess_number = int(input('low,Please try again'))\r\n",
    "    elif guess_number > my_number:\r\n",
    "        guess_number = int(input('hight, Please try again'))\r\n",
    "    else:\r\n",
    "        break\r\n",
    "print('\\n Congratulation! you are right!')"
   ]
  },
  {
   "cell_type": "code",
   "execution_count": 2,
   "metadata": {
    "collapsed": false
   },
   "outputs": [
    {
     "name": "stdout",
     "output_type": "stream",
     "text": [
      "2\n",
      "4\n",
      "6\n",
      "8\n",
      "10\n"
     ]
    }
   ],
   "source": [
    "#continue 跳过本轮\r\n",
    "#打印1-10中的偶数\r\n",
    "for i in range(10):\r\n",
    "    num = i+1\r\n",
    "    if num%2 == 0:\r\n",
    "        print(num)\r\n",
    "    else:\r\n",
    "        continue"
   ]
  },
  {
   "cell_type": "code",
   "execution_count": 4,
   "metadata": {
    "collapsed": false
   },
   "outputs": [
    {
     "name": "stdout",
     "output_type": "stream",
     "text": [
      "2\n",
      "4\n",
      "6\n",
      "8\n",
      "10\n"
     ]
    }
   ],
   "source": [
    "for i in range(10):\r\n",
    "    num = i+1\r\n",
    "    if num % 2 != 0:\r\n",
    "        continue\r\n",
    "    print(num)"
   ]
  },
  {
   "cell_type": "code",
   "execution_count": 14,
   "metadata": {
    "collapsed": false
   },
   "outputs": [
    {
     "name": "stdout",
     "output_type": "stream",
     "text": [
      "上课时间： 2 小时\n"
     ]
    }
   ],
   "source": [
    "print('上课时间：', 2,'小时')"
   ]
  },
  {
   "cell_type": "markdown",
   "metadata": {
    "collapsed": false
   },
   "source": [
    "\n",
    "------------------------------------------分割线---------------------------------------------------\n",
    "\n",
    "\n",
    "\n",
    "\n",
    "\n",
    "\n",
    "\n",
    "\n",
    "\n",
    "\n",
    "\n",
    "\n",
    "\n",
    "\n",
    "\n",
    "\n",
    "\n",
    "\n",
    "\n",
    "\n",
    "\n",
    "\n",
    "\n",
    "\n",
    "\n",
    "\n"
   ]
  },
  {
   "cell_type": "markdown",
   "metadata": {
    "collapsed": false
   },
   "source": [
    "## 基本数据类型"
   ]
  },
  {
   "cell_type": "code",
   "execution_count": null,
   "metadata": {
    "collapsed": false
   },
   "outputs": [],
   "source": [
    "# 整数 Python可以处理任意大小的整数，当然包括负整数，在程序中的表示方法和数学上的写法一模一样\r\n",
    "2\r\n",
    "-5"
   ]
  },
  {
   "cell_type": "code",
   "execution_count": null,
   "metadata": {
    "collapsed": false
   },
   "outputs": [],
   "source": [
    "\r\n",
    "# 浮点数也就是小数，之所以称为浮点数，是因为按照科学记数法表示时，一个浮点数的小数点位置是可变的\r\n",
    "0.1\r\n",
    "1.58e10\r\n",
    "3e-4"
   ]
  },
  {
   "cell_type": "code",
   "execution_count": null,
   "metadata": {
    "collapsed": false
   },
   "outputs": [],
   "source": [
    "# 认识运算符\r\n",
    "print(1+2)   # 加法\r\n",
    "print(1-2)   # 减法\r\n",
    "print(1*2)   # 乘法\r\n",
    "print(1/2)   # 除法\r\n",
    "print(1//2)  # 整除 (向下取整)\r\n",
    "print(1%2)   # 取余数\r\n",
    "print(2**2)  # 幂运算\r\n",
    "print(2020- 5*5/2 +8**1)   #结合顺序和一般的数学运算符一样\r\n",
    "\r\n",
    "# 浮点数的计算精度\r\n",
    "0.1+0.2"
   ]
  },
  {
   "cell_type": "markdown",
   "metadata": {
    "collapsed": false
   },
   "source": [
    "0.1(10)=0.00011001100110011...(2)"
   ]
  },
  {
   "cell_type": "markdown",
   "metadata": {
    "collapsed": false
   },
   "source": [
    "![](https://ai-studio-static-online.cdn.bcebos.com/95c8303d008e41b89744d87f4d57c3775f5a28339f3e4d16bae7829695d93b56)\n"
   ]
  },
  {
   "cell_type": "code",
   "execution_count": null,
   "metadata": {
    "collapsed": false
   },
   "outputs": [],
   "source": [
    "# 字符串是以单引号'或双引号\"括起来的任意文本\r\n",
    "'this is a string'\r\n",
    "\"yes\"\r\n",
    "\r\n",
    "'爸爸说：\"今天我做饭\"'\r\n",
    "\"爸爸说：\\\"今天我做饭\\\"\"\r\n",
    "\r\n",
    "len('hello world!')"
   ]
  },
  {
   "cell_type": "code",
   "execution_count": null,
   "metadata": {
    "collapsed": false
   },
   "outputs": [],
   "source": [
    "\r\n",
    "# 布尔值和布尔代数的表示完全一致，一个布尔值只有True、False两种值布尔值 布尔值可以用and、or和not运算。\r\n",
    "# 注意大小写！\r\n",
    "True or False"
   ]
  },
  {
   "cell_type": "code",
   "execution_count": null,
   "metadata": {
    "collapsed": false
   },
   "outputs": [],
   "source": [
    "# 空值 空值是Python里一个特殊的值，用None表示。None不能理解为0，因为0是有意义的，而None是一个特殊的空值。\r\n",
    "None"
   ]
  },
  {
   "cell_type": "markdown",
   "metadata": {
    "collapsed": false
   },
   "source": [
    "# 给变量赋值\n",
    "\n",
    "![](https://ai-studio-static-online.cdn.bcebos.com/3c67591f72f54ac9ba09d82c35652663e75a7199318d42eaa17c4a8e596e62c4)\n"
   ]
  },
  {
   "cell_type": "code",
   "execution_count": null,
   "metadata": {
    "collapsed": false
   },
   "outputs": [],
   "source": [
    "number = 1\r\n",
    "number = 5.5\r\n",
    "number = 'number'"
   ]
  },
  {
   "cell_type": "code",
   "execution_count": null,
   "metadata": {
    "collapsed": false
   },
   "outputs": [],
   "source": [
    "# 给变量赋值\r\n",
    "Number = 5\r\n",
    "number = 10.5\r\n",
    "NUMBER = 20\r\n",
    "\r\n",
    "name = 'Molly'\r\n",
    "beautiful = True "
   ]
  },
  {
   "cell_type": "code",
   "execution_count": null,
   "metadata": {
    "collapsed": false
   },
   "outputs": [],
   "source": [
    "# 给变量赋值\r\n",
    "number += 2\r\n",
    "number -= 5\r\n",
    "number *= 4\r\n",
    "number /= 6\r\n",
    "number %= 2\r\n",
    "number **= 5\r\n",
    "number //= 5\r\n",
    "\r\n",
    "# ? i++ i--"
   ]
  },
  {
   "cell_type": "markdown",
   "metadata": {
    "collapsed": false
   },
   "source": [
    "**起名法则**\n",
    "\n",
    "简单地理解，标识符就是一个名字，就好像我们每个人都有属于自己的名字，它的主要作用就是作为变量、函数、类、模块以及其他对象的名称\n",
    "\n",
    "Python 中标识符的命名不是随意的，而是要遵守一定的命令规则，比如说：\n",
    "\n",
    "标识符是由字符（A~Z 和 a~z）、下划线和数字组成，但第一个字符不能是数字。\n",
    "标识符不能和 Python 中的保留字相同。\n",
    "Python中的标识符中，不能包含空格、@、% 以及 $ 等特殊字符。\n",
    "在 Python 中，标识符中的字母是严格区分大小写的\n",
    "\n",
    "![](https://ai-studio-static-online.cdn.bcebos.com/b9dd82b7869f490da56933eae7e7c15ba37edf2f2b4f4973a360d319c70327e2)\n"
   ]
  },
  {
   "cell_type": "code",
   "execution_count": null,
   "metadata": {
    "collapsed": false
   },
   "outputs": [],
   "source": [
    "\r\n",
    "# 判断下面的名字，哪些是合法的？\r\n",
    "UserID\r\n",
    "4word  \r\n",
    "name\r\n",
    "import \r\n",
    "data$money \r\n",
    "mode12\r\n",
    "user_age\r\n",
    "_my_name"
   ]
  },
  {
   "cell_type": "markdown",
   "metadata": {
    "collapsed": false
   },
   "source": [
    "## 数据类型间相互转换"
   ]
  },
  {
   "cell_type": "code",
   "execution_count": null,
   "metadata": {
    "collapsed": false
   },
   "outputs": [],
   "source": [
    "int(2.5)\r\n",
    "str(4)\r\n",
    "bool(3)  # 非0： Ture 其它 False\r\n",
    "float('0.6')\r\n",
    "\r\n"
   ]
  },
  {
   "cell_type": "code",
   "execution_count": null,
   "metadata": {
    "collapsed": false
   },
   "outputs": [],
   "source": [
    "# interval 10 min"
   ]
  },
  {
   "cell_type": "markdown",
   "metadata": {
    "collapsed": false
   },
   "source": [
    "## 组合数据类型\n",
    "### 列表 list\n",
    "list是一种有序的集合，可以随时添加和删除其中的元素。"
   ]
  },
  {
   "cell_type": "code",
   "execution_count": null,
   "metadata": {
    "collapsed": false
   },
   "outputs": [],
   "source": [
    "list1 = [1, 2, 3, 4, 5 ]\r\n",
    "list2 = [\"a\", \"b\", \"c\", \"d\",\"e\",\"f\"]\r\n",
    "list3 = ['physics', 'chemistry', 1997, 2000]\r\n",
    "\r\n",
    "len(list1)\r\n",
    "\r\n",
    "list1[4]\r\n",
    "list3.append(5)\r\n",
    "list1.pop()\r\n",
    "\r\n",
    "# ？ 把list中所有元素翻转 善用搜索引擎"
   ]
  },
  {
   "cell_type": "markdown",
   "metadata": {
    "collapsed": false
   },
   "source": [
    "### 元组 tuple\n",
    "另一种有序列表叫元组：tuple。tuple和list非常类似，但是tuple一旦初始化就不能修改"
   ]
  },
  {
   "cell_type": "code",
   "execution_count": null,
   "metadata": {
    "collapsed": false
   },
   "outputs": [],
   "source": [
    "tuple1 = (1, 2, 3, 4, 5 )\r\n",
    "tuple2 = (\"a\", \"b\", \"c\", \"d\",\"e\",\"f\")\r\n",
    "tuple3 = ('physics', 'chemistry', 1997, 2000)\r\n",
    "\r\n",
    "len(tuple1)\r\n",
    "\r\n"
   ]
  },
  {
   "cell_type": "code",
   "execution_count": null,
   "metadata": {
    "collapsed": false
   },
   "outputs": [],
   "source": [
    "tuple1.append(3)"
   ]
  },
  {
   "cell_type": "markdown",
   "metadata": {
    "collapsed": false
   },
   "source": [
    "# 可变对象 不可变对象\n",
    "可变对象：list dict set\n",
    "\n",
    "不可变对象：tuple string int float bool"
   ]
  },
  {
   "cell_type": "code",
   "execution_count": null,
   "metadata": {
    "collapsed": false
   },
   "outputs": [],
   "source": [
    "a = 5\r\n",
    "print(id(a))\r\n",
    "a = 6\r\n",
    "print(id(a))\r\n"
   ]
  },
  {
   "cell_type": "code",
   "execution_count": null,
   "metadata": {
    "collapsed": false
   },
   "outputs": [],
   "source": [
    "a = [5]\r\n",
    "print(id(a))\r\n",
    "a.append(6)\r\n",
    "print(id(a))"
   ]
  },
  {
   "cell_type": "markdown",
   "metadata": {
    "collapsed": false
   },
   "source": [
    "### 字典dict\n",
    "Python内置了字典：dict的支持，dict全称dictionary，在其他语言中也称为map，使用键-值（key-value）存储，具有极快的查找速度。\n",
    "\n",
    "![](https://ai-studio-static-online.cdn.bcebos.com/ea92541b62604edf86225919fa7ff7764283ead3f2aa42518caa0b0093b627c7)\n",
    "\n"
   ]
  },
  {
   "cell_type": "code",
   "execution_count": null,
   "metadata": {
    "collapsed": false
   },
   "outputs": [],
   "source": [
    "word = {'apple':'苹果','banana':'香蕉'}\r\n",
    "scores = {'小张':100, '小李':80}\r\n",
    "grad = {4:'很好',3: '好',2:'中',1:'差',0:'很差'}"
   ]
  },
  {
   "cell_type": "code",
   "execution_count": null,
   "metadata": {
    "collapsed": false
   },
   "outputs": [],
   "source": [
    "scores['小张']"
   ]
  },
  {
   "cell_type": "code",
   "execution_count": null,
   "metadata": {
    "collapsed": false
   },
   "outputs": [],
   "source": [
    "grad[3]"
   ]
  },
  {
   "cell_type": "code",
   "execution_count": null,
   "metadata": {
    "collapsed": false
   },
   "outputs": [],
   "source": [
    "scores['小赵']=60\r\n",
    "scores"
   ]
  },
  {
   "cell_type": "markdown",
   "metadata": {
    "collapsed": false
   },
   "source": [
    "### 集合 set\n",
    "set和dict类似，也是一组key的集合，但不存储value。由于key不能重复，所以，在set中，没有重复的key。"
   ]
  },
  {
   "cell_type": "code",
   "execution_count": null,
   "metadata": {
    "collapsed": false
   },
   "outputs": [],
   "source": [
    "s = {1,1,2,3,4}"
   ]
  },
  {
   "cell_type": "code",
   "execution_count": null,
   "metadata": {
    "collapsed": false
   },
   "outputs": [],
   "source": [
    "set([1,1,2,3,4])\n",
    "list({1,1,2,3,4})\n",
    "list((1,2,3))"
   ]
  },
  {
   "cell_type": "markdown",
   "metadata": {
    "collapsed": false
   },
   "source": [
    "## 流程控制：条件判断和循环"
   ]
  },
  {
   "cell_type": "markdown",
   "metadata": {
    "collapsed": false
   },
   "source": [
    "**IF语句流程图**\n",
    "![](https://ai-studio-static-online.cdn.bcebos.com/4641c6fa80214666ac1a7477a0f00baefd3be071a3ec4a5484ea92c2446bbea0)\n",
    "\n"
   ]
  },
  {
   "cell_type": "code",
   "execution_count": null,
   "metadata": {
    "collapsed": false
   },
   "outputs": [],
   "source": [
    "# 60分以上的同学及格了\r\n",
    "\r\n",
    "score = 80\r\n",
    "if score < 60:\r\n",
    "    print('不及格')\r\n",
    "else:\r\n",
    "    print('及格')"
   ]
  },
  {
   "cell_type": "code",
   "execution_count": null,
   "metadata": {
    "collapsed": false
   },
   "outputs": [],
   "source": [
    "\r\n",
    "print(1==2)  # 判断是否相等\r\n",
    "print(1!=2)  # 判断是否相等\r\n",
    "print(1>2)  # 判断是否相等\r\n",
    "print(1<2)  # 判断是否相等\r\n",
    "print(1>=2)  # 判断是否相等\r\n",
    "print(1<=2)  # 判断是否相等"
   ]
  },
  {
   "cell_type": "code",
   "execution_count": null,
   "metadata": {
    "collapsed": false
   },
   "outputs": [],
   "source": [
    "print(0.1+0.2==0.3)  # 优先级"
   ]
  },
  {
   "cell_type": "code",
   "execution_count": null,
   "metadata": {
    "collapsed": false
   },
   "outputs": [],
   "source": [
    "(0.1+0.2-0.3)<1e-5"
   ]
  },
  {
   "cell_type": "code",
   "execution_count": null,
   "metadata": {
    "collapsed": false
   },
   "outputs": [],
   "source": [
    "# 多分支：红灯停 绿灯行\r\n",
    "\r\n",
    "light = '红灯'\r\n",
    "\r\n",
    "if light == '红灯':\r\n",
    "    print('停')\r\n",
    "elif light == '绿灯':\r\n",
    "    print('行')\r\n",
    "else:\r\n",
    "    print('等一等')"
   ]
  },
  {
   "cell_type": "code",
   "execution_count": null,
   "metadata": {
    "collapsed": false
   },
   "outputs": [],
   "source": [
    "# or and not\r\n",
    "1 < 2 and 2==3"
   ]
  },
  {
   "cell_type": "code",
   "execution_count": null,
   "metadata": {
    "collapsed": false
   },
   "outputs": [],
   "source": [
    "# 学生三门课程都超过80分？\r\n",
    "score_math = 90\r\n",
    "score_english = 80\r\n",
    "score_biology = 50\r\n",
    "\r\n",
    "if score_math>80 and score_english>80 and score_biology>80:\r\n",
    "    print('奖励一朵小红花！')\r\n",
    "else:\r\n",
    "    print('仍需努力')"
   ]
  },
  {
   "cell_type": "code",
   "execution_count": null,
   "metadata": {
    "collapsed": false
   },
   "outputs": [],
   "source": []
  },
  {
   "cell_type": "markdown",
   "metadata": {
    "collapsed": false
   },
   "source": [
    "## 循环语句\n",
    "### while ... do ..a\n",
    "while 判断条件(condition)：\n",
    "    执行语句(statements)\n",
    "    \n",
    "![](https://ai-studio-static-online.cdn.bcebos.com/9da3e74ac43e431ab6f038fbc0b621d6d216ffcde63942318348397a0d661c3d)\n",
    "\n",
    "    "
   ]
  },
  {
   "cell_type": "code",
   "execution_count": null,
   "metadata": {
    "collapsed": false
   },
   "outputs": [],
   "source": [
    "\r\n",
    "# 从1数到9\r\n",
    "number = 1\r\n",
    "while number<10:   # 注意边界条件\r\n",
    "    print(number)\r\n",
    "    number+=1"
   ]
  },
  {
   "cell_type": "code",
   "execution_count": null,
   "metadata": {
    "collapsed": false
   },
   "outputs": [],
   "source": [
    "my_number = 3200  # 这是真实的价格\r\n",
    "guess_number = input('这台冰箱多少钱？') \r\n",
    "guess_number = int(guess_number)\r\n",
    "while guess_number != my_number:\r\n",
    "    if guess_number<my_number:   \r\n",
    "        guess_number = input('猜低了！再猜')\r\n",
    "        guess_number = int(guess_number)\r\n",
    "    else:\r\n",
    "        guess_number = input('猜高了！再猜')\r\n",
    "        guess_number = int(guess_number)\r\n",
    "print('\\n恭喜您，猜对了！\\n')"
   ]
  },
  {
   "cell_type": "markdown",
   "metadata": {
    "collapsed": false
   },
   "source": [
    "## for 循环\n",
    "  for循环可以遍历任何序列的项目，如一个列表或者一个字符串。\n",
    "  \n",
    "  for iterating_var in sequence:\n",
    "   statements(s)\n",
    "   \n",
    "   ![](https://ai-studio-static-online.cdn.bcebos.com/15162c27a1e442b99943ddaedd14fdcc635c832476734395b7649bb36ddf4364)\n",
    "   "
   ]
  },
  {
   "cell_type": "code",
   "execution_count": null,
   "metadata": {
    "collapsed": false
   },
   "outputs": [],
   "source": [
    "for i in range(9):\r\n",
    "    print(i+1)"
   ]
  },
  {
   "cell_type": "code",
   "execution_count": null,
   "metadata": {
    "collapsed": false
   },
   "outputs": [],
   "source": [
    "\r\n",
    "fruits = ['banana', 'apple',  'mango']\r\n",
    "for fruit in fruits:        # 第一个实例\r\n",
    "   print( '当前水果 :', fruit)"
   ]
  },
  {
   "cell_type": "code",
   "execution_count": null,
   "metadata": {
    "collapsed": false
   },
   "outputs": [],
   "source": [
    "for letter in 'Python':     # 第二个实例\n",
    "   print( '当前字母 :', letter)\n",
    " "
   ]
  },
  {
   "cell_type": "markdown",
   "metadata": {
    "collapsed": false
   },
   "source": [
    "### break continue pass"
   ]
  },
  {
   "cell_type": "markdown",
   "metadata": {
    "collapsed": false
   },
   "source": [
    "如果希望在中间离开循环，也就是 f or 循环结束重复之前，或者 while 循环找到结束条件之\n",
    "前。有两种⽅式来做到：\n",
    "* 使⽤ break 语句来完全终⽌循环。\n",
    "* 使⽤ continue 语句直接跳到循环的下⼀次迭代。"
   ]
  },
  {
   "cell_type": "code",
   "execution_count": null,
   "metadata": {
    "collapsed": false
   },
   "outputs": [],
   "source": [
    "# 查找list_1 中的数字\r\n",
    "list_1 = [1,6,3,2,8,4]\r\n",
    "for number in list_1:\r\n",
    "    if number == 3:\r\n",
    "        print('找到了！')\r\n",
    "        break  \r\n"
   ]
  },
  {
   "cell_type": "code",
   "execution_count": null,
   "metadata": {
    "collapsed": false
   },
   "outputs": [],
   "source": [
    "my_number = 3200  # 这是真实的价格\r\n",
    "guess_number = input('这台冰箱多少钱？') \r\n",
    "guess_number = int(guess_number)\r\n",
    "while True:\r\n",
    "    if guess_number<my_number:   \r\n",
    "        guess_number = input('猜低了！再猜')\r\n",
    "        guess_number = int(guess_number)\r\n",
    "    elif guess_number>my_number:\r\n",
    "        guess_number = input('猜高了！再猜')\r\n",
    "        guess_number = int(guess_number)\r\n",
    "    else:\r\n",
    "        break\r\n",
    "    \r\n",
    "print('\\n恭喜您，猜对了！\\n')"
   ]
  },
  {
   "cell_type": "code",
   "execution_count": null,
   "metadata": {
    "collapsed": false
   },
   "outputs": [],
   "source": [
    "# continue : 跳过本轮 \r\n",
    "# 打印1-10中的偶数 \r\n",
    "for i in range(10):\r\n",
    "    num = i+1\r\n",
    "    if num%2 == 0:\r\n",
    "        print(num)\r\n",
    "    else:\r\n",
    "        continue\r\n",
    "# 可以把continue删掉吗？"
   ]
  },
  {
   "cell_type": "code",
   "execution_count": null,
   "metadata": {
    "collapsed": false
   },
   "outputs": [],
   "source": [
    "# continue : 跳过本轮 \r\n",
    "# 打印1-10中的偶数 \r\n",
    "for i in range(10):\r\n",
    "    num = i+1\r\n",
    "    if num%2 != 0:\r\n",
    "        continue\r\n",
    "\r\n",
    "    print(num)\r\n",
    "    print(num**2)"
   ]
  },
  {
   "cell_type": "code",
   "execution_count": null,
   "metadata": {
    "collapsed": false
   },
   "outputs": [],
   "source": [
    "# pass： 占位，还没想好怎么写，先让程序跑起来\r\n",
    "for i in range(5):\r\n",
    "    pass"
   ]
  },
  {
   "cell_type": "markdown",
   "metadata": {
    "collapsed": false
   },
   "source": [
    "# 二八法则"
   ]
  },
  {
   "cell_type": "code",
   "execution_count": null,
   "metadata": {
    "collapsed": false
   },
   "outputs": [],
   "source": []
  }
 ],
 "metadata": {
  "kernelspec": {
   "display_name": "Python 3",
   "language": "python",
   "name": "py35-paddle1.2.0"
  },
  "language_info": {
   "codemirror_mode": {
    "name": "ipython",
    "version": 3
   },
   "file_extension": ".py",
   "mimetype": "text/x-python",
   "name": "python",
   "nbconvert_exporter": "python",
   "pygments_lexer": "ipython3",
   "version": "3.7.4"
  }
 },
 "nbformat": 4,
 "nbformat_minor": 1
}
