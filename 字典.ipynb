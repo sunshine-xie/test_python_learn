{
 "cells": [
  {
   "cell_type": "code",
   "execution_count": null,
   "outputs": [],
   "source": [],
   "metadata": {
    "collapsed": false,
    "pycharm": {
     "name": "#%%\n"
    }
   }
  },
  {
   "cell_type": "markdown",
   "source": [
    "# 字典\n",
    "## 定义\n",
    "### key 使得不关心保存的数据位置，只关心数据对应的内容\n",
    "### 定义字典 {}"
   ],
   "metadata": {
    "collapsed": false
   }
  },
  {
   "cell_type": "code",
   "execution_count": 1,
   "outputs": [
    {
     "name": "stdout",
     "output_type": "stream",
     "text": [
      "{'name': '小明', 'age': 18, 'gender': 'Man', 'height': 175}\n"
     ]
    }
   ],
   "source": [
    "xiaoming = {\"name\":\"小明\",\n",
    "            \"age\": 18,\n",
    "            \"gender\": \"Man\",\n",
    "            \"height\": 175}\n",
    "print(xiaoming)"
   ],
   "metadata": {
    "collapsed": false,
    "pycharm": {
     "name": "#%%\n"
    }
   }
  },
  {
   "cell_type": "code",
   "execution_count": 7,
   "outputs": [
    {
     "data": {
      "text/plain": "dict_keys(['name', 'age', 'gender', 'height'])"
     },
     "execution_count": 7,
     "metadata": {},
     "output_type": "execute_result"
    }
   ],
   "source": [
    "xiaoming.keys()"
   ],
   "metadata": {
    "collapsed": false,
    "pycharm": {
     "name": "#%%\n"
    }
   }
  },
  {
   "cell_type": "code",
   "execution_count": 8,
   "outputs": [
    {
     "name": "stdout",
     "output_type": "stream",
     "text": [
      "小明\n",
      "18\n",
      "Man\n",
      "175\n"
     ]
    }
   ],
   "source": [
    "# 读\n",
    "print(xiaoming[\"name\"])\n",
    "print(xiaoming[\"age\"])\n",
    "print(xiaoming[\"gender\"])\n",
    "print(xiaoming[\"height\"])\n"
   ],
   "metadata": {
    "collapsed": false,
    "pycharm": {
     "name": "#%%\n"
    }
   }
  },
  {
   "cell_type": "code",
   "execution_count": 9,
   "outputs": [
    {
     "name": "stdout",
     "output_type": "stream",
     "text": [
      "{'name': '小明', 'age': 18, 'gender': 'Man', 'height': 175, 'weight': 125}\n"
     ]
    }
   ],
   "source": [
    "# 新增与修改\n",
    "xiaoming[\"weight\"] = 125\n",
    "print(xiaoming)"
   ],
   "metadata": {
    "collapsed": false,
    "pycharm": {
     "name": "#%%\n"
    }
   }
  },
  {
   "cell_type": "code",
   "execution_count": 10,
   "outputs": [
    {
     "name": "stdout",
     "output_type": "stream",
     "text": [
      "{'name': '小明', 'gender': 'Man', 'height': 175, 'weight': 125}\n"
     ]
    }
   ],
   "source": [
    "# 删除\n",
    "xiaoming.pop(\"age\")\n",
    "print(xiaoming)"
   ],
   "metadata": {
    "collapsed": false,
    "pycharm": {
     "name": "#%%\n"
    }
   }
  },
  {
   "cell_type": "code",
   "execution_count": 11,
   "outputs": [
    {
     "data": {
      "text/plain": "4"
     },
     "execution_count": 11,
     "metadata": {},
     "output_type": "execute_result"
    }
   ],
   "source": [
    "# 统计键值对数量\n",
    "len(xiaoming)\n"
   ],
   "metadata": {
    "collapsed": false,
    "pycharm": {
     "name": "#%%\n"
    }
   }
  },
  {
   "cell_type": "code",
   "execution_count": 12,
   "outputs": [
    {
     "name": "stdout",
     "output_type": "stream",
     "text": [
      "{'name': '小明', 'gender': 'Man', 'height': 175, 'weight': 125, 'ahah': 2934}\n"
     ]
    }
   ],
   "source": [
    "# 合并字典,注意，相同键值更新后会覆盖\n",
    "temp_dict = {\"ahah\": 2934}\n",
    "xiaoming.update(temp_dict)\n",
    "print(xiaoming)"
   ],
   "metadata": {
    "collapsed": false,
    "pycharm": {
     "name": "#%%\n"
    }
   }
  },
  {
   "cell_type": "markdown",
   "source": [
    "# 应用场景\n",
    "# 1.多个键值对描述一个物体\n",
    "# 2.多个字典放到一个列表中，再进行遍历"
   ],
   "metadata": {
    "collapsed": false
   }
  },
  {
   "cell_type": "code",
   "execution_count": 33,
   "outputs": [
    {
     "name": "stdout",
     "output_type": "stream",
     "text": [
      "{'name': 'Jon', 'QQ': 12345, 'phone': 123456789}\n",
      "{'name': 'Jim', 'QQ': 67890, 'phone': 382173243}\n"
     ]
    }
   ],
   "source": [
    "card_list = [\n",
    "    {\"name\": \"Jon\",\n",
    "     \"QQ\": 12345,\n",
    "     \"phone\": 123456789},\n",
    "    {\"name\": \"Jim\",\n",
    "     \"QQ\": 67890,\n",
    "     \"phone\": 382173243}\n",
    "]\n",
    "for card_info in card_list:\n",
    "    print(card_info)"
   ],
   "metadata": {
    "collapsed": false,
    "pycharm": {
     "name": "#%%\n"
    }
   }
  }
 ],
 "metadata": {
  "kernelspec": {
   "display_name": "Python 3",
   "language": "python",
   "name": "python3"
  },
  "language_info": {
   "codemirror_mode": {
    "name": "ipython",
    "version": 2
   },
   "file_extension": ".py",
   "mimetype": "text/x-python",
   "name": "python",
   "nbconvert_exporter": "python",
   "pygments_lexer": "ipython2",
   "version": "2.7.6"
  }
 },
 "nbformat": 4,
 "nbformat_minor": 0
}